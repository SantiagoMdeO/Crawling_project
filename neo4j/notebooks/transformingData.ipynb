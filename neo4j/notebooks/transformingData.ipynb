{
 "cells": [
  {
   "cell_type": "markdown",
   "id": "b6a84312",
   "metadata": {},
   "source": [
    "## Introduction\n",
    "The problematic i would like to solve or at least bring attention is the desing of ITESO's website. When i was desiding where to study and considered ITESO as on of the candidates, i found their website way to confusing, too many redirections, sections, the whole structure of the website wasnt clear. <br /><br />\n",
    "And as the years have gone by, i repeatedly realize small mistakes, from default express routes, to pages taht have exactly the same functionality just written differently, from bugs affecting core functionalities and so much more.<br /><br />\n",
    "Thus i would like to investigate the websites faults, structure, and its overall necesity for a checkup.\n"
   ]
  },
  {
   "cell_type": "markdown",
   "id": "70435241",
   "metadata": {},
   "source": [
    "## Dataset \n",
    "### The fast answer:\n",
    "The data set contains urls, Website A, has link to website B. Thus \"from\" being the origin website, and \"to\" the destination<br/>\n",
    "--------------------------------------------------------------<br/>\n",
    "| from                           | to                                                |<br/>\n",
    "| https://www.iteso.mx | https://profesores.iteso.mx/       |<br/>\n",
    "| https://www.iteso.mx | https://www.iteso.mx/familias    |<br/>\n",
    "| https://www.iteso.mx | https://www.iteso.mx/contacto  |<br/>\n",
    "--------------------------------------------------------------<br/>\n",
    "\n",
    "\n",
    "### The slightly longer answer:\n",
    "The data is constructed by the python script \"crawler2.py\", but as it was made in a hurry it has a areas of improvement which i am going to remark in orther to make future improvements.\n",
    "- The crawler takes links with \"#\", meaning that some of the links which have been picked up are only relocations throught the same page, implying that a percentage of the links are not valuable information, i have to verify if there is actual usefull information in this generalization or they can simply be completely removed. there also these links \"https://www.iteso.mx/web/general/detalle?group_id=17276924\", which arent usefull information, but further manual parsing of the data is needed.\n",
    "- \"usefull information\" or links that are valid are verifed manually, implying that it is time consumming, and that some information might be lost by human error\n",
    "- The way i store links can be optimized in multiple ways, we have too much repeated information. (this might be a bigger task that what i am seeing.)\n",
    "<br/><br/>\n",
    "\n",
    "\n",
    "The schema:\n",
    "\n",
    "```python\n",
    "schema = [\n",
    "    (\"from\", \"string\"),\n",
    "    (\"to\", \"string\")\n",
    "]\n",
    "```"
   ]
  },
  {
   "cell_type": "markdown",
   "id": "b0c1a690",
   "metadata": {},
   "source": [
    "# CODE\n",
    "like i dont think this qualifies as transformation as im just initializing data."
   ]
  },
  {
   "cell_type": "code",
   "execution_count": 1,
   "id": "64b7f17d",
   "metadata": {},
   "outputs": [
    {
     "name": "stderr",
     "output_type": "stream",
     "text": [
      "WARNING: Using incubator modules: jdk.incubator.vector\n",
      ":: loading settings :: url = jar:file:/opt/spark/jars/ivy-2.5.3.jar!/org/apache/ivy/core/settings/ivysettings.xml\n",
      "Ivy Default Cache set to: /root/.ivy2.5.2/cache\n",
      "The jars for the packages stored in: /root/.ivy2.5.2/jars\n",
      "org.neo4j#neo4j-connector-apache-spark_2.13 added as a dependency\n",
      ":: resolving dependencies :: org.apache.spark#spark-submit-parent-384061c9-fc4a-46f2-85dc-3f43d70e39f3;1.0\n",
      "\tconfs: [default]\n",
      "\tfound org.neo4j#neo4j-connector-apache-spark_2.13;5.3.10_for_spark_3 in central\n",
      "\tfound org.neo4j#neo4j-connector-apache-spark_2.13_common;5.3.10_for_spark_3 in central\n",
      "\tfound org.neo4j#caniuse-core;1.3.0 in central\n",
      "\tfound org.neo4j#caniuse-api;1.3.0 in central\n",
      "\tfound org.jetbrains.kotlin#kotlin-stdlib;2.1.20 in central\n",
      "\tfound org.jetbrains#annotations;13.0 in central\n",
      "\tfound org.neo4j#caniuse-neo4j-detection;1.3.0 in central\n",
      "\tfound org.neo4j.driver#neo4j-java-driver-slim;4.4.21 in central\n",
      "\tfound org.reactivestreams#reactive-streams;1.0.4 in central\n",
      "\tfound io.netty#netty-handler;4.1.127.Final in central\n",
      "\tfound io.netty#netty-common;4.1.127.Final in central\n",
      "\tfound io.netty#netty-resolver;4.1.127.Final in central\n",
      "\tfound io.netty#netty-buffer;4.1.127.Final in central\n",
      "\tfound io.netty#netty-transport;4.1.127.Final in central\n",
      "\tfound io.netty#netty-transport-native-unix-common;4.1.127.Final in central\n",
      "\tfound io.netty#netty-codec;4.1.127.Final in central\n",
      "\tfound io.netty#netty-tcnative-classes;2.0.73.Final in central\n",
      "\tfound io.projectreactor#reactor-core;3.6.11 in central\n",
      "\tfound org.neo4j#neo4j-cypher-dsl;2022.11.0 in central\n",
      "\tfound org.apiguardian#apiguardian-api;1.1.2 in central\n",
      "\tfound org.neo4j.connectors#commons-authn-spi;1.0.0-rc2 in central\n",
      "\tfound org.neo4j.connectors#commons-reauth-driver;1.0.0-rc2 in central\n",
      "\tfound org.slf4j#slf4j-api;2.0.17 in central\n",
      "\tfound org.neo4j.connectors#commons-authn-provided;1.0.0-rc2 in central\n",
      ":: resolution report :: resolve 537ms :: artifacts dl 11ms\n",
      "\t:: modules in use:\n",
      "\tio.netty#netty-buffer;4.1.127.Final from central in [default]\n",
      "\tio.netty#netty-codec;4.1.127.Final from central in [default]\n",
      "\tio.netty#netty-common;4.1.127.Final from central in [default]\n",
      "\tio.netty#netty-handler;4.1.127.Final from central in [default]\n",
      "\tio.netty#netty-resolver;4.1.127.Final from central in [default]\n",
      "\tio.netty#netty-tcnative-classes;2.0.73.Final from central in [default]\n",
      "\tio.netty#netty-transport;4.1.127.Final from central in [default]\n",
      "\tio.netty#netty-transport-native-unix-common;4.1.127.Final from central in [default]\n",
      "\tio.projectreactor#reactor-core;3.6.11 from central in [default]\n",
      "\torg.apiguardian#apiguardian-api;1.1.2 from central in [default]\n",
      "\torg.jetbrains#annotations;13.0 from central in [default]\n",
      "\torg.jetbrains.kotlin#kotlin-stdlib;2.1.20 from central in [default]\n",
      "\torg.neo4j#caniuse-api;1.3.0 from central in [default]\n",
      "\torg.neo4j#caniuse-core;1.3.0 from central in [default]\n",
      "\torg.neo4j#caniuse-neo4j-detection;1.3.0 from central in [default]\n",
      "\torg.neo4j#neo4j-connector-apache-spark_2.13;5.3.10_for_spark_3 from central in [default]\n",
      "\torg.neo4j#neo4j-connector-apache-spark_2.13_common;5.3.10_for_spark_3 from central in [default]\n",
      "\torg.neo4j#neo4j-cypher-dsl;2022.11.0 from central in [default]\n",
      "\torg.neo4j.connectors#commons-authn-provided;1.0.0-rc2 from central in [default]\n",
      "\torg.neo4j.connectors#commons-authn-spi;1.0.0-rc2 from central in [default]\n",
      "\torg.neo4j.connectors#commons-reauth-driver;1.0.0-rc2 from central in [default]\n",
      "\torg.neo4j.driver#neo4j-java-driver-slim;4.4.21 from central in [default]\n",
      "\torg.reactivestreams#reactive-streams;1.0.4 from central in [default]\n",
      "\torg.slf4j#slf4j-api;2.0.17 from central in [default]\n",
      "\t---------------------------------------------------------------------\n",
      "\t|                  |            modules            ||   artifacts   |\n",
      "\t|       conf       | number| search|dwnlded|evicted|| number|dwnlded|\n",
      "\t---------------------------------------------------------------------\n",
      "\t|      default     |   24  |   0   |   0   |   0   ||   24  |   0   |\n",
      "\t---------------------------------------------------------------------\n",
      ":: retrieving :: org.apache.spark#spark-submit-parent-384061c9-fc4a-46f2-85dc-3f43d70e39f3\n",
      "\tconfs: [default]\n",
      "\t0 artifacts copied, 24 already retrieved (0kB/12ms)\n",
      "25/10/25 23:14:08 WARN NativeCodeLoader: Unable to load native-hadoop library for your platform... using builtin-java classes where applicable\n",
      "Using Spark's default log4j profile: org/apache/spark/log4j2-defaults.properties\n",
      "Setting default log level to \"WARN\".\n",
      "To adjust logging level use sc.setLogLevel(newLevel). For SparkR, use setLogLevel(newLevel).\n"
     ]
    }
   ],
   "source": [
    "import findspark\n",
    "findspark.init()\n",
    "\n",
    "from pyspark.sql import SparkSession\n",
    "\n",
    "spark = SparkSession.builder \\\n",
    "    .appName(\"Examples on SparkSQL\") \\\n",
    "    .master(\"spark://09991c9b5d22:7077\") \\\n",
    "    .config(\"spark.jars.packages\", \"org.neo4j:neo4j-connector-apache-spark_2.13:5.3.10_for_spark_3\") \\\n",
    "    .config(\"spark.ui.port\", \"4040\") \\\n",
    "    .getOrCreate()\n",
    "\n",
    "sc = spark.sparkContext\n",
    "sc.setLogLevel(\"ERROR\")"
   ]
  },
  {
   "cell_type": "code",
   "execution_count": 35,
   "id": "049c7c57",
   "metadata": {},
   "outputs": [],
   "source": [
    "from spark_utils import SparkUtils"
   ]
  },
  {
   "cell_type": "code",
   "execution_count": 44,
   "id": "b30b2b38",
   "metadata": {},
   "outputs": [
    {
     "name": "stdout",
     "output_type": "stream",
     "text": [
      "string\n",
      "string\n"
     ]
    }
   ],
   "source": [
    "schema = [\n",
    "    (\"from\", \"string\"),\n",
    "    (\"to\", \"string\")\n",
    "]\n",
    "spark_schema = SparkUtils.generate_schema(schema)\n",
    "#i know this is not a good practice when it comes to pyspark i shoudnt direct to a single document, \n",
    "# more so when its supposed to take a lot more than just one document\n",
    "df = spark.read.option(\"header\", True).schema(spark_schema).csv(\"/opt/spark/work-dir/data/connections.csv\")"
   ]
  },
  {
   "cell_type": "markdown",
   "id": "29820153",
   "metadata": {},
   "source": [
    "## Transformations and Actions"
   ]
  },
  {
   "cell_type": "code",
   "execution_count": 46,
   "id": "9aeec211",
   "metadata": {},
   "outputs": [],
   "source": [
    "from pyspark.sql.functions import count\n",
    "from pyspark.sql.functions import col\n",
    "from functools import reduce\n",
    "from pyspark.sql import DataFrame\n",
    "from pyspark.sql.functions import coalesce, lit"
   ]
  },
  {
   "cell_type": "code",
   "execution_count": null,
   "id": "3e1383fe",
   "metadata": {},
   "outputs": [],
   "source": [
    "# here we remove duplicates, at the same time, i add them together just to see have the aount of redundancy in a page\n",
    "\n",
    "df1 = df.groupBy(\"from\", \"to\").agg(count(\"*\").alias(\"connection_count\"))\n",
    "#there are links that are empty which causes nulls, which is honestly hilarious\n",
    "finaldf = df1.dropna()\n",
    "\n",
    "#this information is not relevant to the proffesor but:\n",
    "#if there are links that i deem as trash during extraction, for example these links are exactly the same:\n",
    "#https://www.iteso.mx            https://www.iteso.mx/web/general/detalle?group_id=17276924\n",
    "#as in they provde the same amount of information, thus shoudl i add them together in this variable?\n",
    "#i think its better to lose this information while it would give bigger numebrs into connection_count\n",
    "#i dont think i can guarantee consistency with this."
   ]
  },
  {
   "cell_type": "code",
   "execution_count": null,
   "id": "06dc91f1",
   "metadata": {},
   "outputs": [],
   "source": [
    "#Vertices DataFrame:\n",
    "\n",
    "#we can gather new information as integers, just to make analysis easier, but the amount if incoming and outcoming links form a certain website\n",
    "# i am aware that this is after i've agregated the conections, this being done in purpose to get the amount of unique links. \n",
    "outgoing_links = finaldf.groupBy(\"from\").agg(count(\"*\").alias(\"outgoing_count\"))\n",
    "incoming_links = finaldf.groupBy(\"to\").agg(count(\"*\").alias(\"incoming_count\"))\n",
    "\n",
    "#Here i reunite all the urls, thus i can have a coulumn with all the websites i had access to.\n",
    "vert_df1 = finaldf.select(col(\"from\").alias(\"link\"))\n",
    "vert_df2 = finaldf.select(col(\"to\").alias(\"link\"))\n",
    "vertices_df = reduce(DataFrame.unionAll, [vert_df1, vert_df2]).dropDuplicates([\"link\"])\n",
    "\n",
    "#we make left joins to connect the aggregated data of the incoming and outgoing urls\n",
    "vertices_df = vertices_df.join(\n",
    "    outgoing_links,\n",
    "    vertices_df.link == outgoing_links[\"from\"],\n",
    "    \"left\"\n",
    ").drop(\"from\")\n",
    "vertices_df = vertices_df.join(\n",
    "    incoming_links,\n",
    "    vertices_df.link == incoming_links[\"to\"],\n",
    "    \"left\"\n",
    ").drop(\"to\")\n",
    "\n",
    "\n",
    "#failed because we have nulls in edge websites.\n",
    "vertices_df = vertices_df.withColumn(\n",
    "    \"outgoing_count\",\n",
    "    coalesce(col(\"outgoing_count\"), lit(0))\n",
    ")\n",
    "vertices_df = vertices_df.withColumn(\n",
    "    \"incoming_count\",\n",
    "    coalesce(col(\"incoming_count\"), lit(0))\n",
    ")"
   ]
  },
  {
   "cell_type": "markdown",
   "id": "90df6af5",
   "metadata": {},
   "source": [
    "## Persistence Data "
   ]
  },
  {
   "cell_type": "code",
   "execution_count": 48,
   "id": "93d1324a",
   "metadata": {},
   "outputs": [
    {
     "name": "stderr",
     "output_type": "stream",
     "text": [
      "[Stage 189:============================>                            (1 + 1) / 2]\r"
     ]
    },
    {
     "name": "stdout",
     "output_type": "stream",
     "text": [
      "16619 URL wrote in Neo4j\n"
     ]
    },
    {
     "name": "stderr",
     "output_type": "stream",
     "text": [
      "                                                                                \r"
     ]
    }
   ],
   "source": [
    "# Add the code to write a graph from PySpark's DataFrames to Neo4j\n",
    "neo4j_url = \"bolt://neo4j-iteso:7687\"\n",
    "neo4j_user = \"neo4j\"\n",
    "neo4j_passwd = \"neo4j@1234\"\n",
    "\n",
    "\n",
    "vertices_df.write \\\n",
    "  .format(\"org.neo4j.spark.DataSource\") \\\n",
    "  .mode(\"Overwrite\") \\\n",
    "  .option(\"url\", neo4j_url) \\\n",
    "  .option(\"authentication.basic.username\", neo4j_user) \\\n",
    "  .option(\"authentication.basic.password\", neo4j_passwd) \\\n",
    "  .option(\"labels\", \":URL\") \\\n",
    "  .option(\"node.keys\", \"link\") \\\n",
    "  .option(\"node.properties\", \"outgoing_count,incoming_count\") \\\n",
    "  .save()\n",
    "\n",
    "print(f\"{vertices_df.count()} URL wrote in Neo4j\")\n"
   ]
  },
  {
   "cell_type": "code",
   "execution_count": 41,
   "id": "a1d3931a",
   "metadata": {},
   "outputs": [
    {
     "name": "stdout",
     "output_type": "stream",
     "text": [
      "+--------------------+--------------------+----------------+\n",
      "|                from|                  to|connection_count|\n",
      "+--------------------+--------------------+----------------+\n",
      "|https://www.iteso.mx|https://www.iteso...|               2|\n",
      "|https://www.iteso.mx|https://posgrados...|               1|\n",
      "|https://www.iteso.mx|https://www.iteso...|               2|\n",
      "|https://www.iteso.mx|https://mi.iteso....|               1|\n",
      "|https://www.iteso.mx|https://www.iteso...|               4|\n",
      "+--------------------+--------------------+----------------+\n",
      "only showing top 5 rows\n"
     ]
    }
   ],
   "source": [
    "finaldf.show(n=5)"
   ]
  },
  {
   "cell_type": "code",
   "execution_count": null,
   "id": "7b055247",
   "metadata": {},
   "outputs": [
    {
     "name": "stderr",
     "output_type": "stream",
     "text": [
      "[Stage 202:============================>                            (1 + 1) / 2]\r"
     ]
    },
    {
     "name": "stdout",
     "output_type": "stream",
     "text": [
      "158640 edges wrote in Neo4j\n"
     ]
    },
    {
     "name": "stderr",
     "output_type": "stream",
     "text": [
      "                                                                                \r"
     ]
    }
   ],
   "source": [
    "#34 minutos\n",
    "finaldf.write \\\n",
    "  .format(\"org.neo4j.spark.DataSource\") \\\n",
    "  .mode(\"Overwrite\") \\\n",
    "  .option(\"url\", neo4j_url) \\\n",
    "  .option(\"authentication.basic.username\", neo4j_user) \\\n",
    "  .option(\"authentication.basic.password\", neo4j_passwd) \\\n",
    "  .option(\"relationship\", \"CONNECTION\") \\\n",
    "  .option(\"relationship.save.strategy\", \"keys\") \\\n",
    "  .option(\"relationship.source.labels\", \":URL\") \\\n",
    "  .option(\"relationship.source.save.mode\", \"match\") \\\n",
    "  .option(\"relationship.source.node.keys\", \"from:link\") \\\n",
    "  .option(\"relationship.target.labels\", \":URL\") \\\n",
    "  .option(\"relationship.target.save.mode\", \"match\") \\\n",
    "  .option(\"relationship.target.node.keys\", \"to:link\") \\\n",
    "  .option(\"relationship.properties\", \"connection_count\") \\\n",
    "  .save()\n",
    "\n",
    "#.option(\"relationship.source.node.keys\", \"src:id\") format seems to take on column1InRelationship:ColumnInEdge\n",
    "\n",
    "print(f\"{finaldf.count()} edges wrote in Neo4j\")"
   ]
  },
  {
   "cell_type": "markdown",
   "id": "7ad32a3e",
   "metadata": {},
   "source": [
    "## DAG"
   ]
  },
  {
   "cell_type": "markdown",
   "id": "90cf0e1b",
   "metadata": {},
   "source": []
  },
  {
   "cell_type": "markdown",
   "id": "fc2d45ad",
   "metadata": {},
   "source": [
    "## Deliverable\n",
    "\n",
    "Teaaach, it says that if the pr has any merge conflicts, that it would not be evaluated, but i did it in my own repository, and i modified some stuff that im not sure it would work if i just pass it, if you need the actual pr in you repository ill do it so after confirmation, but just in case, im going to attach a bunch of evidence so you can see that the code actually executes, and that the information is in the neo4j"
   ]
  }
 ],
 "metadata": {
  "kernelspec": {
   "display_name": "Python 3 (ipykernel)",
   "language": "python",
   "name": "python3"
  },
  "language_info": {
   "codemirror_mode": {
    "name": "ipython",
    "version": 3
   },
   "file_extension": ".py",
   "mimetype": "text/x-python",
   "name": "python",
   "nbconvert_exporter": "python",
   "pygments_lexer": "ipython3",
   "version": "3.10.12"
  }
 },
 "nbformat": 4,
 "nbformat_minor": 5
}
