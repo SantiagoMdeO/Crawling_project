{
 "cells": [
  {
   "cell_type": "code",
   "execution_count": 1,
   "id": "64b7f17d",
   "metadata": {},
   "outputs": [
    {
     "name": "stderr",
     "output_type": "stream",
     "text": [
      "WARNING: Using incubator modules: jdk.incubator.vector\n",
      ":: loading settings :: url = jar:file:/opt/spark/jars/ivy-2.5.3.jar!/org/apache/ivy/core/settings/ivysettings.xml\n",
      "Ivy Default Cache set to: /root/.ivy2.5.2/cache\n",
      "The jars for the packages stored in: /root/.ivy2.5.2/jars\n",
      "org.neo4j#neo4j-connector-apache-spark_2.13 added as a dependency\n",
      ":: resolving dependencies :: org.apache.spark#spark-submit-parent-95f5070f-c241-44ec-a7cb-d8e0ca357485;1.0\n",
      "\tconfs: [default]\n",
      "\tfound org.neo4j#neo4j-connector-apache-spark_2.13;5.3.10_for_spark_3 in central\n",
      "\tfound org.neo4j#neo4j-connector-apache-spark_2.13_common;5.3.10_for_spark_3 in central\n",
      "\tfound org.neo4j#caniuse-core;1.3.0 in central\n",
      "\tfound org.neo4j#caniuse-api;1.3.0 in central\n",
      "\tfound org.jetbrains.kotlin#kotlin-stdlib;2.1.20 in central\n",
      "\tfound org.jetbrains#annotations;13.0 in central\n",
      "\tfound org.neo4j#caniuse-neo4j-detection;1.3.0 in central\n",
      "\tfound org.neo4j.driver#neo4j-java-driver-slim;4.4.21 in central\n",
      "\tfound org.reactivestreams#reactive-streams;1.0.4 in central\n",
      "\tfound io.netty#netty-handler;4.1.127.Final in central\n",
      "\tfound io.netty#netty-common;4.1.127.Final in central\n",
      "\tfound io.netty#netty-resolver;4.1.127.Final in central\n",
      "\tfound io.netty#netty-buffer;4.1.127.Final in central\n",
      "\tfound io.netty#netty-transport;4.1.127.Final in central\n",
      "\tfound io.netty#netty-transport-native-unix-common;4.1.127.Final in central\n",
      "\tfound io.netty#netty-codec;4.1.127.Final in central\n",
      "\tfound io.netty#netty-tcnative-classes;2.0.73.Final in central\n",
      "\tfound io.projectreactor#reactor-core;3.6.11 in central\n",
      "\tfound org.neo4j#neo4j-cypher-dsl;2022.11.0 in central\n",
      "\tfound org.apiguardian#apiguardian-api;1.1.2 in central\n",
      "\tfound org.neo4j.connectors#commons-authn-spi;1.0.0-rc2 in central\n",
      "\tfound org.neo4j.connectors#commons-reauth-driver;1.0.0-rc2 in central\n",
      "\tfound org.slf4j#slf4j-api;2.0.17 in central\n",
      "\tfound org.neo4j.connectors#commons-authn-provided;1.0.0-rc2 in central\n",
      "downloading https://repo1.maven.org/maven2/org/neo4j/neo4j-connector-apache-spark_2.13/5.3.10_for_spark_3/neo4j-connector-apache-spark_2.13-5.3.10_for_spark_3.jar ...\n",
      "\t[SUCCESSFUL ] org.neo4j#neo4j-connector-apache-spark_2.13;5.3.10_for_spark_3!neo4j-connector-apache-spark_2.13.jar (728ms)\n",
      "downloading https://repo1.maven.org/maven2/org/neo4j/neo4j-connector-apache-spark_2.13_common/5.3.10_for_spark_3/neo4j-connector-apache-spark_2.13_common-5.3.10_for_spark_3.jar ...\n",
      "\t[SUCCESSFUL ] org.neo4j#neo4j-connector-apache-spark_2.13_common;5.3.10_for_spark_3!neo4j-connector-apache-spark_2.13_common.jar (123ms)\n",
      "downloading https://repo1.maven.org/maven2/org/neo4j/driver/neo4j-java-driver-slim/4.4.21/neo4j-java-driver-slim-4.4.21.jar ...\n",
      "\t[SUCCESSFUL ] org.neo4j.driver#neo4j-java-driver-slim;4.4.21!neo4j-java-driver-slim.jar (142ms)\n",
      "downloading https://repo1.maven.org/maven2/org/neo4j/caniuse-core/1.3.0/caniuse-core-1.3.0.jar ...\n",
      "\t[SUCCESSFUL ] org.neo4j#caniuse-core;1.3.0!caniuse-core.jar (114ms)\n",
      "downloading https://repo1.maven.org/maven2/org/neo4j/caniuse-neo4j-detection/1.3.0/caniuse-neo4j-detection-1.3.0.jar ...\n",
      "\t[SUCCESSFUL ] org.neo4j#caniuse-neo4j-detection;1.3.0!caniuse-neo4j-detection.jar (126ms)\n",
      "downloading https://repo1.maven.org/maven2/org/neo4j/neo4j-cypher-dsl/2022.11.0/neo4j-cypher-dsl-2022.11.0.jar ...\n",
      "\t[SUCCESSFUL ] org.neo4j#neo4j-cypher-dsl;2022.11.0!neo4j-cypher-dsl.jar (204ms)\n",
      "downloading https://repo1.maven.org/maven2/org/neo4j/connectors/commons-authn-spi/1.0.0-rc2/commons-authn-spi-1.0.0-rc2.jar ...\n",
      "\t[SUCCESSFUL ] org.neo4j.connectors#commons-authn-spi;1.0.0-rc2!commons-authn-spi.jar (91ms)\n",
      "downloading https://repo1.maven.org/maven2/org/neo4j/connectors/commons-reauth-driver/1.0.0-rc2/commons-reauth-driver-1.0.0-rc2.jar ...\n",
      "\t[SUCCESSFUL ] org.neo4j.connectors#commons-reauth-driver;1.0.0-rc2!commons-reauth-driver.jar (122ms)\n",
      "downloading https://repo1.maven.org/maven2/org/neo4j/caniuse-api/1.3.0/caniuse-api-1.3.0.jar ...\n",
      "\t[SUCCESSFUL ] org.neo4j#caniuse-api;1.3.0!caniuse-api.jar (124ms)\n",
      "downloading https://repo1.maven.org/maven2/org/jetbrains/kotlin/kotlin-stdlib/2.1.20/kotlin-stdlib-2.1.20.jar ...\n",
      "\t[SUCCESSFUL ] org.jetbrains.kotlin#kotlin-stdlib;2.1.20!kotlin-stdlib.jar (222ms)\n",
      "downloading https://repo1.maven.org/maven2/org/jetbrains/annotations/13.0/annotations-13.0.jar ...\n",
      "\t[SUCCESSFUL ] org.jetbrains#annotations;13.0!annotations.jar (120ms)\n",
      "downloading https://repo1.maven.org/maven2/org/reactivestreams/reactive-streams/1.0.4/reactive-streams-1.0.4.jar ...\n",
      "\t[SUCCESSFUL ] org.reactivestreams#reactive-streams;1.0.4!reactive-streams.jar (101ms)\n",
      "downloading https://repo1.maven.org/maven2/io/netty/netty-handler/4.1.127.Final/netty-handler-4.1.127.Final.jar ...\n",
      "\t[SUCCESSFUL ] io.netty#netty-handler;4.1.127.Final!netty-handler.jar (217ms)\n",
      "downloading https://repo1.maven.org/maven2/io/netty/netty-tcnative-classes/2.0.73.Final/netty-tcnative-classes-2.0.73.Final.jar ...\n",
      "\t[SUCCESSFUL ] io.netty#netty-tcnative-classes;2.0.73.Final!netty-tcnative-classes.jar (111ms)\n",
      "downloading https://repo1.maven.org/maven2/io/projectreactor/reactor-core/3.6.11/reactor-core-3.6.11.jar ...\n",
      "\t[SUCCESSFUL ] io.projectreactor#reactor-core;3.6.11!reactor-core.jar (327ms)\n",
      "downloading https://repo1.maven.org/maven2/io/netty/netty-common/4.1.127.Final/netty-common-4.1.127.Final.jar ...\n",
      "\t[SUCCESSFUL ] io.netty#netty-common;4.1.127.Final!netty-common.jar (175ms)\n",
      "downloading https://repo1.maven.org/maven2/io/netty/netty-resolver/4.1.127.Final/netty-resolver-4.1.127.Final.jar ...\n",
      "\t[SUCCESSFUL ] io.netty#netty-resolver;4.1.127.Final!netty-resolver.jar (104ms)\n",
      "downloading https://repo1.maven.org/maven2/io/netty/netty-buffer/4.1.127.Final/netty-buffer-4.1.127.Final.jar ...\n",
      "\t[SUCCESSFUL ] io.netty#netty-buffer;4.1.127.Final!netty-buffer.jar (162ms)\n",
      "downloading https://repo1.maven.org/maven2/io/netty/netty-transport/4.1.127.Final/netty-transport-4.1.127.Final.jar ...\n",
      "\t[SUCCESSFUL ] io.netty#netty-transport;4.1.127.Final!netty-transport.jar (181ms)\n",
      "downloading https://repo1.maven.org/maven2/io/netty/netty-transport-native-unix-common/4.1.127.Final/netty-transport-native-unix-common-4.1.127.Final.jar ...\n",
      "\t[SUCCESSFUL ] io.netty#netty-transport-native-unix-common;4.1.127.Final!netty-transport-native-unix-common.jar (119ms)\n",
      "downloading https://repo1.maven.org/maven2/io/netty/netty-codec/4.1.127.Final/netty-codec-4.1.127.Final.jar ...\n",
      "\t[SUCCESSFUL ] io.netty#netty-codec;4.1.127.Final!netty-codec.jar (157ms)\n",
      "downloading https://repo1.maven.org/maven2/org/apiguardian/apiguardian-api/1.1.2/apiguardian-api-1.1.2.jar ...\n",
      "\t[SUCCESSFUL ] org.apiguardian#apiguardian-api;1.1.2!apiguardian-api.jar (101ms)\n",
      "downloading https://repo1.maven.org/maven2/org/slf4j/slf4j-api/2.0.17/slf4j-api-2.0.17.jar ...\n",
      "\t[SUCCESSFUL ] org.slf4j#slf4j-api;2.0.17!slf4j-api.jar (167ms)\n",
      "downloading https://repo1.maven.org/maven2/org/neo4j/connectors/commons-authn-provided/1.0.0-rc2/commons-authn-provided-1.0.0-rc2.jar ...\n",
      "\t[SUCCESSFUL ] org.neo4j.connectors#commons-authn-provided;1.0.0-rc2!commons-authn-provided.jar (175ms)\n",
      ":: resolution report :: resolve 19599ms :: artifacts dl 4232ms\n",
      "\t:: modules in use:\n",
      "\tio.netty#netty-buffer;4.1.127.Final from central in [default]\n",
      "\tio.netty#netty-codec;4.1.127.Final from central in [default]\n",
      "\tio.netty#netty-common;4.1.127.Final from central in [default]\n",
      "\tio.netty#netty-handler;4.1.127.Final from central in [default]\n",
      "\tio.netty#netty-resolver;4.1.127.Final from central in [default]\n",
      "\tio.netty#netty-tcnative-classes;2.0.73.Final from central in [default]\n",
      "\tio.netty#netty-transport;4.1.127.Final from central in [default]\n",
      "\tio.netty#netty-transport-native-unix-common;4.1.127.Final from central in [default]\n",
      "\tio.projectreactor#reactor-core;3.6.11 from central in [default]\n",
      "\torg.apiguardian#apiguardian-api;1.1.2 from central in [default]\n",
      "\torg.jetbrains#annotations;13.0 from central in [default]\n",
      "\torg.jetbrains.kotlin#kotlin-stdlib;2.1.20 from central in [default]\n",
      "\torg.neo4j#caniuse-api;1.3.0 from central in [default]\n",
      "\torg.neo4j#caniuse-core;1.3.0 from central in [default]\n",
      "\torg.neo4j#caniuse-neo4j-detection;1.3.0 from central in [default]\n",
      "\torg.neo4j#neo4j-connector-apache-spark_2.13;5.3.10_for_spark_3 from central in [default]\n",
      "\torg.neo4j#neo4j-connector-apache-spark_2.13_common;5.3.10_for_spark_3 from central in [default]\n",
      "\torg.neo4j#neo4j-cypher-dsl;2022.11.0 from central in [default]\n",
      "\torg.neo4j.connectors#commons-authn-provided;1.0.0-rc2 from central in [default]\n",
      "\torg.neo4j.connectors#commons-authn-spi;1.0.0-rc2 from central in [default]\n",
      "\torg.neo4j.connectors#commons-reauth-driver;1.0.0-rc2 from central in [default]\n",
      "\torg.neo4j.driver#neo4j-java-driver-slim;4.4.21 from central in [default]\n",
      "\torg.reactivestreams#reactive-streams;1.0.4 from central in [default]\n",
      "\torg.slf4j#slf4j-api;2.0.17 from central in [default]\n",
      "\t---------------------------------------------------------------------\n",
      "\t|                  |            modules            ||   artifacts   |\n",
      "\t|       conf       | number| search|dwnlded|evicted|| number|dwnlded|\n",
      "\t---------------------------------------------------------------------\n",
      "\t|      default     |   24  |   24  |   24  |   0   ||   24  |   24  |\n",
      "\t---------------------------------------------------------------------\n",
      ":: retrieving :: org.apache.spark#spark-submit-parent-95f5070f-c241-44ec-a7cb-d8e0ca357485\n",
      "\tconfs: [default]\n",
      "\t24 artifacts copied, 0 already retrieved (15383kB/33ms)\n",
      "25/10/09 19:35:59 WARN NativeCodeLoader: Unable to load native-hadoop library for your platform... using builtin-java classes where applicable\n",
      "Using Spark's default log4j profile: org/apache/spark/log4j2-defaults.properties\n",
      "Setting default log level to \"WARN\".\n",
      "To adjust logging level use sc.setLogLevel(newLevel). For SparkR, use setLogLevel(newLevel).\n"
     ]
    }
   ],
   "source": [
    "import findspark\n",
    "findspark.init()\n",
    "\n",
    "from pyspark.sql import SparkSession\n",
    "\n",
    "spark = SparkSession.builder \\\n",
    "    .appName(\"Examples on SparkSQL\") \\\n",
    "    .master(\"spark://09991c9b5d22:7077\") \\\n",
    "    .config(\"spark.jars.packages\", \"org.neo4j:neo4j-connector-apache-spark_2.13:5.3.10_for_spark_3\") \\\n",
    "    .config(\"spark.ui.port\", \"4040\") \\\n",
    "    .getOrCreate()\n",
    "\n",
    "sc = spark.sparkContext\n",
    "sc.setLogLevel(\"ERROR\")"
   ]
  },
  {
   "cell_type": "code",
   "execution_count": 2,
   "id": "049c7c57",
   "metadata": {},
   "outputs": [],
   "source": [
    "from spark_utils import SparkUtils"
   ]
  },
  {
   "cell_type": "code",
   "execution_count": 3,
   "id": "b30b2b38",
   "metadata": {},
   "outputs": [
    {
     "name": "stdout",
     "output_type": "stream",
     "text": [
      "string\n",
      "string\n"
     ]
    }
   ],
   "source": [
    "schema = [\n",
    "    (\"from\", \"string\"),\n",
    "    (\"to\", \"string\")\n",
    "]\n",
    "spark_schema = SparkUtils.generate_schema(schema)\n",
    "#i know this is not a good practice when it comes to pyspark i shoudnt direct to a single document, \n",
    "# more so when its supposed to take a lot more than just one document\n",
    "df = spark.read.option(\"header\", True).schema(spark_schema).csv(\"/opt/spark/work-dir/data/connections.csv\")"
   ]
  },
  {
   "cell_type": "code",
   "execution_count": 4,
   "id": "3e1383fe",
   "metadata": {},
   "outputs": [],
   "source": [
    "df1 = df.dropDuplicates(['from', 'to'])"
   ]
  },
  {
   "cell_type": "code",
   "execution_count": 5,
   "id": "7efc26aa",
   "metadata": {},
   "outputs": [],
   "source": [
    "#df1.show(truncate=False)\n",
    "finaldf = df1"
   ]
  },
  {
   "cell_type": "code",
   "execution_count": 6,
   "id": "9aeec211",
   "metadata": {},
   "outputs": [],
   "source": [
    "from pyspark.sql.functions import col\n",
    "from functools import reduce\n",
    "from pyspark.sql import DataFrame"
   ]
  },
  {
   "cell_type": "code",
   "execution_count": 7,
   "id": "06dc91f1",
   "metadata": {},
   "outputs": [],
   "source": [
    "#i drop duplicates twice, so the question is which one would take less time\n",
    "#Vertices DataFrame:\n",
    "vert_df1 = finaldf.select(\n",
    "    col(\"from\").alias(\"link\")\n",
    ")\n",
    "vert_df2 = finaldf.select(\n",
    "    col(\"to\").alias(\"link\")\n",
    ")\n",
    "vertices_df = reduce(DataFrame.unionAll, [vert_df1, vert_df2]).dropDuplicates([\"link\"])"
   ]
  },
  {
   "cell_type": "code",
   "execution_count": 11,
   "id": "7fa15942",
   "metadata": {},
   "outputs": [
    {
     "name": "stderr",
     "output_type": "stream",
     "text": [
      "                                                                                \r"
     ]
    },
    {
     "name": "stdout",
     "output_type": "stream",
     "text": [
      "16622\n"
     ]
    },
    {
     "name": "stderr",
     "output_type": "stream",
     "text": [
      "[Stage 38:=============================>                            (1 + 1) / 2]\r"
     ]
    },
    {
     "name": "stdout",
     "output_type": "stream",
     "text": [
      "16621\n"
     ]
    },
    {
     "name": "stderr",
     "output_type": "stream",
     "text": [
      "                                                                                \r"
     ]
    }
   ],
   "source": [
    "print(vertices_df.count())\n",
    "vertices_df2 = vertices_df.dropna()\n",
    "print(vertices_df2.count())"
   ]
  },
  {
   "cell_type": "code",
   "execution_count": 12,
   "id": "93d1324a",
   "metadata": {},
   "outputs": [
    {
     "name": "stderr",
     "output_type": "stream",
     "text": [
      "[Stage 60:=============================>                            (1 + 1) / 2]\r"
     ]
    },
    {
     "name": "stdout",
     "output_type": "stream",
     "text": [
      "16622 URL wrote in Neo4j\n"
     ]
    },
    {
     "name": "stderr",
     "output_type": "stream",
     "text": [
      "                                                                                \r"
     ]
    }
   ],
   "source": [
    "# Add the code to write a graph from PySpark's DataFrames to Neo4j\n",
    "neo4j_url = \"bolt://neo4j-iteso:7687\"\n",
    "neo4j_user = \"neo4j\"\n",
    "neo4j_passwd = \"neo4j@1234\"\n",
    "\n",
    "\n",
    "vertices_df2.write \\\n",
    "  .format(\"org.neo4j.spark.DataSource\") \\\n",
    "  .mode(\"Overwrite\") \\\n",
    "  .option(\"url\", neo4j_url) \\\n",
    "  .option(\"authentication.basic.username\", neo4j_user) \\\n",
    "  .option(\"authentication.basic.password\", neo4j_passwd) \\\n",
    "  .option(\"labels\", \":URL\") \\\n",
    "  .option(\"node.keys\", \"link\") \\\n",
    "  .save()\n",
    "\n",
    "print(f\"{vertices_df.count()} URL wrote in Neo4j\")\n"
   ]
  }
 ],
 "metadata": {
  "kernelspec": {
   "display_name": "Python 3 (ipykernel)",
   "language": "python",
   "name": "python3"
  },
  "language_info": {
   "codemirror_mode": {
    "name": "ipython",
    "version": 3
   },
   "file_extension": ".py",
   "mimetype": "text/x-python",
   "name": "python",
   "nbconvert_exporter": "python",
   "pygments_lexer": "ipython3",
   "version": "3.10.12"
  }
 },
 "nbformat": 4,
 "nbformat_minor": 5
}
