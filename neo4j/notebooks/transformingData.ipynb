{
 "cells": [
  {
   "cell_type": "code",
   "execution_count": 8,
   "id": "64b7f17d",
   "metadata": {},
   "outputs": [],
   "source": [
    "import findspark\n",
    "findspark.init()\n",
    "\n",
    "from pyspark.sql import SparkSession\n",
    "\n",
    "spark = SparkSession.builder \\\n",
    "    .appName(\"Examples on SparkSQL\") \\\n",
    "    .master(\"spark://99df69d04a18:7077\") \\\n",
    "    .config(\"spark.jars.packages\", \"org.neo4j:neo4j-connector-apache-spark_2.13:5.3.10_for_spark_3\") \\\n",
    "    .config(\"spark.ui.port\", \"4040\") \\\n",
    "    .getOrCreate()\n",
    "\n",
    "sc = spark.sparkContext\n",
    "sc.setLogLevel(\"ERROR\")"
   ]
  },
  {
   "cell_type": "code",
   "execution_count": 9,
   "id": "049c7c57",
   "metadata": {},
   "outputs": [],
   "source": [
    "from spark_utils import SparkUtils"
   ]
  },
  {
   "cell_type": "code",
   "execution_count": 10,
   "id": "b30b2b38",
   "metadata": {},
   "outputs": [
    {
     "name": "stdout",
     "output_type": "stream",
     "text": [
      "string\n",
      "string\n"
     ]
    }
   ],
   "source": [
    "schema = [\n",
    "    (\"from\", \"string\"),\n",
    "    (\"to\", \"string\")\n",
    "]\n",
    "spark_schema = SparkUtils.generate_schema(schema)\n",
    "#i know this is not a good practice when it comes to pyspark i shoudnt direct to a single document, \n",
    "# more so when its supposed to take a lot more than just one document\n",
    "df = spark.read.option(\"header\", True).schema(spark_schema).csv(\"/opt/spark/work-dir/data/connections.csv\")"
   ]
  }
 ],
 "metadata": {
  "kernelspec": {
   "display_name": "Python 3 (ipykernel)",
   "language": "python",
   "name": "python3"
  },
  "language_info": {
   "codemirror_mode": {
    "name": "ipython",
    "version": 3
   },
   "file_extension": ".py",
   "mimetype": "text/x-python",
   "name": "python",
   "nbconvert_exporter": "python",
   "pygments_lexer": "ipython3",
   "version": "3.10.12"
  }
 },
 "nbformat": 4,
 "nbformat_minor": 5
}
